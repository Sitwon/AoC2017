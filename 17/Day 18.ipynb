{
 "cells": [
  {
   "cell_type": "markdown",
   "metadata": {},
   "source": [
    "# Day 18"
   ]
  },
  {
   "cell_type": "markdown",
   "metadata": {},
   "source": [
    "## Puzzle input:"
   ]
  },
  {
   "cell_type": "code",
   "execution_count": 1,
   "metadata": {},
   "outputs": [],
   "source": [
    "with open('a_input.txt') as input_file:\n",
    "    instructions = [\n",
    "        line.split()\n",
    "        for line in input_file\n",
    "    ]\n"
   ]
  },
  {
   "cell_type": "markdown",
   "metadata": {},
   "source": [
    "## Part A"
   ]
  },
  {
   "cell_type": "code",
   "execution_count": 2,
   "metadata": {},
   "outputs": [],
   "source": [
    "class Registers(object):\n",
    "    registers = {}\n",
    "    abc = [chr(n) for n in range(ord('a'), ord('a')+26)]\n",
    "    \n",
    "    def __init__(self):\n",
    "        for letter in self.abc:\n",
    "            self.registers[letter] = 0\n",
    "    \n",
    "    def val_of(self, var):\n",
    "        if var in self.abc:\n",
    "            return self.registers[var]\n",
    "        return int(var)\n",
    "    \n",
    "    def set_val(self, letter, val):\n",
    "        self.registers[letter] = val\n",
    "            "
   ]
  },
  {
   "cell_type": "code",
   "execution_count": 3,
   "metadata": {},
   "outputs": [
    {
     "name": "stdout",
     "output_type": "stream",
     "text": [
      "2951\n"
     ]
    }
   ],
   "source": [
    "r = Registers()\n",
    "last_sound = None\n",
    "position = 0\n",
    "\n",
    "while True:\n",
    "    inst = instructions[position]\n",
    "    case inst[0]:\n",
    "        match 'snd':\n",
    "            last_sound = r.val_of(inst[1])\n",
    "        match 'set':\n",
    "            r.set_val(inst[1], r.val_of(inst[2]))\n",
    "        match 'add':\n",
    "            r.set_val(inst[1], r.val_of(inst[1]) + r.val_of(inst[2]))\n",
    "        match 'mul':\n",
    "            r.set_val(inst[1], r.val_of(inst[1]) * r.val_of(inst[2]))\n",
    "        match 'mod':\n",
    "            r.set_val(inst[1], r.val_of(inst[1]) % r.val_of(inst[2]))\n",
    "        match 'rcv':\n",
    "            if r.val_of(inst[1]) != 0:\n",
    "                print(last_sound)\n",
    "                break\n",
    "        match 'jgz':\n",
    "            if r.val_of(inst[1]) > 0:\n",
    "                position += r.val_of(inst[2]) - 1\n",
    "    position += 1\n"
   ]
  },
  {
   "cell_type": "markdown",
   "metadata": {},
   "source": [
    "## Part B"
   ]
  },
  {
   "cell_type": "code",
   "execution_count": 4,
   "metadata": {},
   "outputs": [],
   "source": [
    "class Registers(object):\n",
    "    abc = [chr(n) for n in range(ord('a'), ord('a')+26)]\n",
    "    \n",
    "    def __init__(self, pid):\n",
    "        self.registers = {}\n",
    "        for letter in self.abc:\n",
    "            self.registers[letter] = 0\n",
    "        self.registers['p'] = pid\n",
    "    \n",
    "    def val_of(self, var):\n",
    "        if var in self.abc:\n",
    "            return self.registers[var]\n",
    "        return int(var)            "
   ]
  },
  {
   "cell_type": "code",
   "execution_count": 5,
   "metadata": {},
   "outputs": [],
   "source": [
    "class Program(object):\n",
    "    def __init__(self, pid):\n",
    "        self.reg = Registers(pid)\n",
    "        self.mq = []\n",
    "        self.position = 0"
   ]
  },
  {
   "cell_type": "code",
   "execution_count": 6,
   "metadata": {},
   "outputs": [
    {
     "name": "stdout",
     "output_type": "stream",
     "text": [
      "7366\n"
     ]
    }
   ],
   "source": [
    "p0 = Program(0)\n",
    "p1 = Program(1)\n",
    "\n",
    "inst_len = len(instructions)\n",
    "count = 0\n",
    "\n",
    "p0_blocked = False\n",
    "p1_blocked = False\n",
    "while not (p0_blocked and p1_blocked):\n",
    "    # run Program 0:\n",
    "    if p0.position >= inst_len or p0.position < 0:\n",
    "        pass\n",
    "    else:\n",
    "        inst = instructions[p0.position]\n",
    "        case inst[0]:\n",
    "            match 'snd':\n",
    "                p1.mq.insert(0, p0.reg.val_of(inst[1]))\n",
    "            match 'set':\n",
    "                p0.reg.registers[inst[1]] = p0.reg.val_of(inst[2])\n",
    "            match 'add':\n",
    "                p0.reg.registers[inst[1]] += p0.reg.val_of(inst[2])\n",
    "            match 'mul':\n",
    "                p0.reg.registers[inst[1]] *= p0.reg.val_of(inst[2])\n",
    "            match 'mod':\n",
    "                p0.reg.registers[inst[1]] %= p0.reg.val_of(inst[2])\n",
    "            match 'rcv':\n",
    "                if len(p0.mq) == 0:\n",
    "                    p0_blocked = True\n",
    "                else:\n",
    "                    p0_blocked = False\n",
    "                    p0.reg.registers[inst[1]] = p0.reg.val_of(p0.mq.pop())\n",
    "            match 'jgz':\n",
    "                if p0.reg.val_of(inst[1]) > 0:\n",
    "                    p0.position += p0.reg.val_of(inst[2]) - 1\n",
    "        if not p0_blocked:\n",
    "            p0.position += 1\n",
    "    # run Program 1:\n",
    "    if p1.position >= inst_len or p1.position < 0:\n",
    "        pass\n",
    "    else:\n",
    "        inst = instructions[p1.position]\n",
    "        case inst[0]:\n",
    "            match 'snd':\n",
    "                p0.mq.insert(0, p1.reg.val_of(inst[1]))\n",
    "                count += 1\n",
    "            match 'set':\n",
    "                p1.reg.registers[inst[1]] = p1.reg.val_of(inst[2])\n",
    "            match 'add':\n",
    "                p1.reg.registers[inst[1]] += p1.reg.val_of(inst[2])\n",
    "            match 'mul':\n",
    "                p1.reg.registers[inst[1]] *= p1.reg.val_of(inst[2])\n",
    "            match 'mod':\n",
    "                p1.reg.registers[inst[1]] %= p1.reg.val_of(inst[2])\n",
    "            match 'rcv':\n",
    "                if len(p1.mq) == 0:\n",
    "                    p1_blocked = True\n",
    "                else:\n",
    "                    p1_blocked = False\n",
    "                    p1.reg.registers[inst[1]] = p1.reg.val_of(p1.mq.pop())\n",
    "            match 'jgz':\n",
    "                if p1.reg.val_of(inst[1]) > 0:\n",
    "                    p1.position += p1.reg.val_of(inst[2]) - 1\n",
    "        if not p1_blocked:\n",
    "            p1.position += 1\n",
    "\n",
    "print(count)"
   ]
  }
 ],
 "metadata": {
  "kernelspec": {
   "display_name": "Coconut",
   "language": "coconut",
   "name": "coconut"
  },
  "language_info": {
   "codemirror_mode": {
    "name": "python",
    "version": 3.6
   },
   "file_extension": ".coco",
   "mimetype": "text/x-python3",
   "name": "coconut",
   "pygments_lexer": "coconut"
  }
 },
 "nbformat": 4,
 "nbformat_minor": 2
}
