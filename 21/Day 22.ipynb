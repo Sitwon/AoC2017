{
 "cells": [
  {
   "cell_type": "markdown",
   "metadata": {},
   "source": [
    "# Day 22"
   ]
  },
  {
   "cell_type": "markdown",
   "metadata": {},
   "source": [
    "## Puzzle input:"
   ]
  },
  {
   "cell_type": "code",
   "execution_count": 1,
   "metadata": {},
   "outputs": [],
   "source": [
    "with open('input.txt', 'r') as input_file:\n",
    "    lines = input_file.readlines()\n",
    "\n",
    "rows = len(lines)\n",
    "cols = len(lines[0].strip())\n",
    "rows, cols\n",
    "\n",
    "init_infected = []\n",
    "for i in range(rows):\n",
    "    for j in range(cols):\n",
    "        if lines[i][j] == '#':\n",
    "            init_infected.append((i - int((rows-1)/2), j - int((cols-1)/2)))\n",
    "\n",
    "#init_infected = [(-1,1), (0,-1)]"
   ]
  },
  {
   "cell_type": "markdown",
   "metadata": {},
   "source": [
    "## Part A"
   ]
  },
  {
   "cell_type": "code",
   "execution_count": 2,
   "metadata": {},
   "outputs": [
    {
     "name": "stdout",
     "output_type": "stream",
     "text": [
      "5348\n"
     ]
    }
   ],
   "source": [
    "class Carrier(object):\n",
    "    directions = 'nesw' |> list\n",
    "    infections = 0\n",
    "    \n",
    "    def __init__(self):\n",
    "        self.position = (0,0)\n",
    "        self.direction = 'n'\n",
    "        \n",
    "    def turn_right(self):\n",
    "        self.direction = self.directions[(self.directions.index(self.direction) + 1) % 4]\n",
    "    \n",
    "    def turn_left(self):\n",
    "        self.direction = self.directions[self.directions.index(self.direction) - 1]\n",
    "        \n",
    "    def move_forward(self):\n",
    "        case self.direction:\n",
    "            match 'n':\n",
    "                self.position = (self.position[0]-1, self.position[1])\n",
    "            match 'e':\n",
    "                self.position = (self.position[0], self.position[1]+1)\n",
    "            match 's':\n",
    "                self.position = (self.position[0]+1, self.position[1])\n",
    "            match 'w':\n",
    "                self.position = (self.position[0], self.position[1]-1)\n",
    "        \n",
    "    def burst(self, infected):\n",
    "        if self.position in infected:\n",
    "            self.turn_right()\n",
    "            infected.remove(self.position)\n",
    "        else:\n",
    "            self.turn_left()\n",
    "            infected.append(self.position)\n",
    "            self.infections += 1\n",
    "        self.move_forward()\n",
    "\n",
    "infected = init_infected |> list\n",
    "carrier = Carrier()\n",
    "for i in range(10000):\n",
    "    carrier.burst(infected)\n",
    "\n",
    "print(carrier.infections)"
   ]
  },
  {
   "cell_type": "markdown",
   "metadata": {},
   "source": [
    "## Part B"
   ]
  },
  {
   "cell_type": "code",
   "execution_count": 3,
   "metadata": {},
   "outputs": [
    {
     "name": "stdout",
     "output_type": "stream",
     "text": [
      "2512225\n"
     ]
    }
   ],
   "source": [
    "class Carrier(object):\n",
    "    directions = 'nesw' |> list\n",
    "    infections = 0\n",
    "    \n",
    "    def __init__(self, infected):\n",
    "        self.position = (0,0)\n",
    "        self.direction = 'n'\n",
    "        self.infected = infected |> set\n",
    "        self.weakened = set()\n",
    "        self.flagged = set()\n",
    "        \n",
    "    def turn_right(self):\n",
    "        self.direction = self.directions[(self.directions.index(self.direction) + 1) % 4]\n",
    "    \n",
    "    def turn_left(self):\n",
    "        self.direction = self.directions[self.directions.index(self.direction) - 1]\n",
    "        \n",
    "    def move_forward(self):\n",
    "        case self.direction:\n",
    "            match 'n':\n",
    "                self.position = (self.position[0]-1, self.position[1])\n",
    "            match 'e':\n",
    "                self.position = (self.position[0], self.position[1]+1)\n",
    "            match 's':\n",
    "                self.position = (self.position[0]+1, self.position[1])\n",
    "            match 'w':\n",
    "                self.position = (self.position[0], self.position[1]-1)\n",
    "        \n",
    "    def burst(self):\n",
    "        if self.position in self.infected:\n",
    "            self.turn_right()\n",
    "            self.infected.discard(self.position)\n",
    "            self.flagged.add(self.position)\n",
    "        elif self.position in self.weakened:\n",
    "            self.weakened.discard(self.position)\n",
    "            self.infected.add(self.position)\n",
    "            self.infections += 1\n",
    "        elif self.position in self.flagged:\n",
    "            self.turn_left()\n",
    "            self.turn_left()\n",
    "            self.flagged.discard(self.position)\n",
    "        else:\n",
    "            self.turn_left()\n",
    "            self.weakened.add(self.position)\n",
    "        self.move_forward()\n",
    "\n",
    "infected = init_infected |> list\n",
    "carrier = Carrier(infected)\n",
    "for i in range(10000000):\n",
    "    carrier.burst()\n",
    "\n",
    "print(carrier.infections)"
   ]
  }
 ],
 "metadata": {
  "kernelspec": {
   "display_name": "Coconut",
   "language": "coconut",
   "name": "coconut"
  },
  "language_info": {
   "codemirror_mode": {
    "name": "python",
    "version": 3.6
   },
   "file_extension": ".coco",
   "mimetype": "text/x-python3",
   "name": "coconut",
   "pygments_lexer": "coconut"
  }
 },
 "nbformat": 4,
 "nbformat_minor": 2
}
