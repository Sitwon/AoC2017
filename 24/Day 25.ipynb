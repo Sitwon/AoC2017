{
 "cells": [
  {
   "cell_type": "markdown",
   "metadata": {},
   "source": [
    "# Day 25 "
   ]
  },
  {
   "cell_type": "markdown",
   "metadata": {},
   "source": [
    "## Puzzle input:"
   ]
  },
  {
   "cell_type": "code",
   "execution_count": 1,
   "metadata": {},
   "outputs": [],
   "source": [
    "starting_state = 'A'\n",
    "\n",
    "steps = 12794428\n",
    "\n",
    "states = {\n",
    "    'A': [\n",
    "        [1, 1, 'B'],\n",
    "        [0, -1, 'F']\n",
    "    ],\n",
    "    'B': [\n",
    "        [0, 1, 'C'],\n",
    "        [0, 1, 'D']\n",
    "    ],\n",
    "    'C': [\n",
    "        [1, -1, 'D'],\n",
    "        [1, 1, 'E']\n",
    "    ],\n",
    "    'D': [\n",
    "        [0, -1, 'E'],\n",
    "        [0, -1, 'D']\n",
    "    ],\n",
    "    'E': [\n",
    "        [0, 1, 'A'],\n",
    "        [1, 1, 'C']\n",
    "    ],\n",
    "    'F': [\n",
    "        [1, -1, 'A'],\n",
    "        [1, 1, 'A']\n",
    "    ],\n",
    "}"
   ]
  },
  {
   "cell_type": "markdown",
   "metadata": {},
   "source": [
    "## Part A"
   ]
  },
  {
   "cell_type": "code",
   "execution_count": 2,
   "metadata": {},
   "outputs": [
    {
     "name": "stdout",
     "output_type": "stream",
     "text": [
      "2832\n"
     ]
    }
   ],
   "source": [
    "state = starting_state\n",
    "position = 0\n",
    "tape = set()\n",
    "\n",
    "for _ in range(steps):\n",
    "    value = 1 if position in tape else 0\n",
    "    rule = states[state][value]\n",
    "    if rule[0]:\n",
    "        tape.add(position)\n",
    "    else:\n",
    "        tape.discard(position)\n",
    "    position += rule[1]\n",
    "    state = rule[2]\n",
    "\n",
    "print(len(tape))"
   ]
  }
 ],
 "metadata": {
  "kernelspec": {
   "display_name": "Coconut",
   "language": "coconut",
   "name": "coconut"
  },
  "language_info": {
   "codemirror_mode": {
    "name": "python",
    "version": 3.6
   },
   "file_extension": ".coco",
   "mimetype": "text/x-python3",
   "name": "coconut",
   "pygments_lexer": "coconut"
  }
 },
 "nbformat": 4,
 "nbformat_minor": 2
}
