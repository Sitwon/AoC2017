{
 "cells": [
  {
   "cell_type": "markdown",
   "metadata": {},
   "source": [
    "# Day 23"
   ]
  },
  {
   "cell_type": "markdown",
   "metadata": {},
   "source": [
    "## Puzzle input:"
   ]
  },
  {
   "cell_type": "code",
   "execution_count": 1,
   "metadata": {},
   "outputs": [
    {
     "name": "stdout",
     "output_type": "stream",
     "text": [
      "0: [u'set', u'b', u'57']\n",
      "1: [u'set', u'c', u'b']\n",
      "2: [u'jnz', u'a', u'2']\n",
      "3: [u'jnz', u'1', u'5']\n",
      "4: [u'mul', u'b', u'100']\n",
      "5: [u'sub', u'b', u'-100000']\n",
      "6: [u'set', u'c', u'b']\n",
      "7: [u'sub', u'c', u'-17000']\n",
      "8: [u'set', u'f', u'1']\n",
      "9: [u'set', u'd', u'2']\n",
      "10: [u'set', u'e', u'2']\n",
      "11: [u'set', u'g', u'd']\n",
      "12: [u'mul', u'g', u'e']\n",
      "13: [u'sub', u'g', u'b']\n",
      "14: [u'jnz', u'g', u'2']\n",
      "15: [u'set', u'f', u'0']\n",
      "16: [u'sub', u'e', u'-1']\n",
      "17: [u'set', u'g', u'e']\n",
      "18: [u'sub', u'g', u'b']\n",
      "19: [u'jnz', u'g', u'-8']\n",
      "20: [u'sub', u'd', u'-1']\n",
      "21: [u'set', u'g', u'd']\n",
      "22: [u'sub', u'g', u'b']\n",
      "23: [u'jnz', u'g', u'-13']\n",
      "24: [u'jnz', u'f', u'2']\n",
      "25: [u'sub', u'h', u'-1']\n",
      "26: [u'set', u'g', u'b']\n",
      "27: [u'sub', u'g', u'c']\n",
      "28: [u'jnz', u'g', u'2']\n",
      "29: [u'jnz', u'1', u'3']\n",
      "30: [u'sub', u'b', u'-17']\n",
      "31: [u'jnz', u'1', u'-23']\n"
     ]
    }
   ],
   "source": [
    "instructions = []\n",
    "with open('input.txt', 'r') as input_file:\n",
    "    for line in input_file:\n",
    "        line.strip().split() |> instructions.append\n",
    "        \n",
    "for i in range(len(instructions)):\n",
    "    print('%i: %s' % (i, instructions[i]))"
   ]
  },
  {
   "cell_type": "markdown",
   "metadata": {},
   "source": [
    "## Part A"
   ]
  },
  {
   "cell_type": "code",
   "execution_count": 2,
   "metadata": {},
   "outputs": [
    {
     "data": {
      "text/plain": [
       "[u'a', u'b', u'c', u'd', u'e', u'f', u'g', u'h']"
      ]
     },
     "execution_count": 2,
     "metadata": {},
     "output_type": "execute_result"
    }
   ],
   "source": [
    "class Registers(object):\n",
    "    registers = {}\n",
    "    abc = [chr(n) for n in range(ord('a'), ord('h')+1)]\n",
    "    \n",
    "    def __init__(self):\n",
    "        for letter in self.abc:\n",
    "            self.registers[letter] = 0\n",
    "    \n",
    "    def val_of(self, var):\n",
    "        if var in self.abc:\n",
    "            return self.registers[var]\n",
    "        return int(var)\n",
    "    \n",
    "    def set_val(self, letter, val):\n",
    "        self.registers[letter] = val\n",
    "\n",
    "Registers.abc"
   ]
  },
  {
   "cell_type": "code",
   "execution_count": 3,
   "metadata": {},
   "outputs": [
    {
     "name": "stdout",
     "output_type": "stream",
     "text": [
      "3025\n"
     ]
    }
   ],
   "source": [
    "r = Registers()\n",
    "position = 0\n",
    "\n",
    "mulled = 0\n",
    "while True:\n",
    "    try:\n",
    "        inst = instructions[position]\n",
    "    except:\n",
    "        break\n",
    "    case inst[0]:\n",
    "        match 'set':\n",
    "            r.set_val(inst[1], r.val_of(inst[2]))\n",
    "        match 'sub':\n",
    "            r.set_val(inst[1], r.val_of(inst[1]) - r.val_of(inst[2]))\n",
    "        match 'mul':\n",
    "            mulled += 1\n",
    "            r.set_val(inst[1], r.val_of(inst[1]) * r.val_of(inst[2]))\n",
    "        match 'jnz':\n",
    "            if r.val_of(inst[1]) != 0:\n",
    "                position += r.val_of(inst[2]) - 1\n",
    "    position += 1\n",
    "\n",
    "print(mulled)"
   ]
  },
  {
   "cell_type": "markdown",
   "metadata": {},
   "source": [
    "## Part B"
   ]
  },
  {
   "cell_type": "code",
   "execution_count": 4,
   "metadata": {
    "scrolled": false
   },
   "outputs": [
    {
     "name": "stdout",
     "output_type": "stream",
     "text": [
      "915\n"
     ]
    }
   ],
   "source": [
    "from math import sqrt\n",
    "from itertools import count, islice\n",
    "\n",
    "def is_prime(n):\n",
    "    return n > 1 and all(n%i for i in islice(count(2), int(sqrt(n))))\n",
    "\n",
    "h = 0\n",
    "for b in range(105700, 122700+1, 17):\n",
    "    if not is_prime(b):\n",
    "        h += 1\n",
    "\n",
    "print (h)"
   ]
  },
  {
   "cell_type": "code",
   "execution_count": null,
   "metadata": {},
   "outputs": [],
   "source": []
  }
 ],
 "metadata": {
  "kernelspec": {
   "display_name": "Coconut",
   "language": "coconut",
   "name": "coconut"
  },
  "language_info": {
   "codemirror_mode": {
    "name": "python",
    "version": 3.6
   },
   "file_extension": ".coco",
   "mimetype": "text/x-python3",
   "name": "coconut",
   "pygments_lexer": "coconut"
  }
 },
 "nbformat": 4,
 "nbformat_minor": 2
}
