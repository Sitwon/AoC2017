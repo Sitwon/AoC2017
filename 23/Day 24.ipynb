{
 "cells": [
  {
   "cell_type": "markdown",
   "metadata": {},
   "source": [
    "# Day 24"
   ]
  },
  {
   "cell_type": "markdown",
   "metadata": {},
   "source": [
    "## Puzzle input:"
   ]
  },
  {
   "cell_type": "code",
   "execution_count": 12,
   "metadata": {},
   "outputs": [
    {
     "data": {
      "text/plain": [
       "u'    \\nparts = [[0,2],\\n[2,2],\\n[2,3],\\n[3,4],\\n[3,5],\\n[0,1],\\n[10,1],\\n[9,10]]\\n#'"
      ]
     },
     "execution_count": 12,
     "metadata": {},
     "output_type": "execute_result"
    }
   ],
   "source": [
    "with open('input.txt', 'r') as input_file:\n",
    "    parts = [\n",
    "        line.strip().split('/') |> map$(int) |> list\n",
    "        for line in input_file\n",
    "    ]\n",
    "\n",
    "'''    \n",
    "parts = [[0,2],\n",
    "[2,2],\n",
    "[2,3],\n",
    "[3,4],\n",
    "[3,5],\n",
    "[0,1],\n",
    "[10,1],\n",
    "[9,10]]\n",
    "#'''"
   ]
  },
  {
   "cell_type": "markdown",
   "metadata": {},
   "source": [
    "## Part A"
   ]
  },
  {
   "cell_type": "code",
   "execution_count": 16,
   "metadata": {},
   "outputs": [
    {
     "name": "stdout",
     "output_type": "stream",
     "text": [
      "1656\n"
     ]
    }
   ],
   "source": [
    "bridges = []\n",
    "\n",
    "def find_bridges(parts, current_bridge=None, next_port=0):\n",
    "    possible_parts = [\n",
    "        part\n",
    "        for part in parts\n",
    "        if next_port in part\n",
    "    ]\n",
    "    for part in possible_parts:\n",
    "        if current_bridge is None:\n",
    "            current_bridge = []\n",
    "        this_bridge = current_bridge + [part]\n",
    "        bridges.append(this_bridge)\n",
    "        port = part[0] if part[0] != next_port else part[1]\n",
    "        parts.remove(part)\n",
    "        find_bridges(parts, this_bridge, port)\n",
    "        parts.append(part)\n",
    "\n",
    "def score_bridge(bridge):\n",
    "    return [side for part in bridge for side in part] |> sum\n",
    "\n",
    "find_bridges(parts)\n",
    "\n",
    "largest = 0\n",
    "for bridge in bridges:\n",
    "    score = score_bridge(bridge)\n",
    "    if score > largest:\n",
    "        largest = score\n",
    "\n",
    "print(largest)"
   ]
  },
  {
   "cell_type": "markdown",
   "metadata": {},
   "source": [
    "## Part B"
   ]
  },
  {
   "cell_type": "code",
   "execution_count": 20,
   "metadata": {},
   "outputs": [
    {
     "name": "stdout",
     "output_type": "stream",
     "text": [
      "1642\n"
     ]
    }
   ],
   "source": [
    "'''bridges = []\n",
    "\n",
    "def find_bridges(parts, current_bridge=None, next_port=0):\n",
    "    possible_parts = [\n",
    "        part\n",
    "        for part in parts\n",
    "        if next_port in part\n",
    "    ]\n",
    "    for part in possible_parts:\n",
    "        if current_bridge is None:\n",
    "            current_bridge = []\n",
    "        this_bridge = current_bridge + [part]\n",
    "        bridges.append(this_bridge)\n",
    "        port = part[0] if part[0] != next_port else part[1]\n",
    "        parts.remove(part)\n",
    "        find_bridges(parts, this_bridge, port)\n",
    "        parts.append(part)\n",
    "\n",
    "def score_bridge(bridge):\n",
    "    return [side for part in bridge for side in part] |> sum\n",
    "\n",
    "find_bridges(parts)'''\n",
    "\n",
    "longest = 0\n",
    "for bridge in bridges:\n",
    "    score = len(bridge)\n",
    "    if score > longest:\n",
    "        longest = score\n",
    "        \n",
    "long_bridges = [\n",
    "    bridge\n",
    "    for bridge in bridges\n",
    "    if len(bridge) == longest\n",
    "]\n",
    "\n",
    "strongest = 0\n",
    "for bridge in long_bridges:\n",
    "    score = score_bridge(bridge)\n",
    "    if score > strongest:\n",
    "        strongest = score\n",
    "\n",
    "print(strongest)"
   ]
  }
 ],
 "metadata": {
  "kernelspec": {
   "display_name": "Coconut",
   "language": "coconut",
   "name": "coconut"
  },
  "language_info": {
   "codemirror_mode": {
    "name": "python",
    "version": 3.6
   },
   "file_extension": ".coco",
   "mimetype": "text/x-python3",
   "name": "coconut",
   "pygments_lexer": "coconut"
  }
 },
 "nbformat": 4,
 "nbformat_minor": 2
}
