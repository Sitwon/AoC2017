{
 "cells": [
  {
   "cell_type": "markdown",
   "metadata": {},
   "source": [
    "# Day 17"
   ]
  },
  {
   "cell_type": "markdown",
   "metadata": {},
   "source": [
    "## Puzzle input:"
   ]
  },
  {
   "cell_type": "code",
   "execution_count": 1,
   "metadata": {},
   "outputs": [],
   "source": [
    "cycles = 316"
   ]
  },
  {
   "cell_type": "markdown",
   "metadata": {},
   "source": [
    "## Part A"
   ]
  },
  {
   "cell_type": "code",
   "execution_count": 2,
   "metadata": {},
   "outputs": [
    {
     "name": "stdout",
     "output_type": "stream",
     "text": [
      "180\n"
     ]
    }
   ],
   "source": [
    "#cycles=3\n",
    "ring = [0]\n",
    "position = 0\n",
    "buff_len = len(ring)\n",
    "for i in range(1,2018):\n",
    "    position = (position + 1 + cycles) % buff_len\n",
    "    ring = ring[:position+1] + [i] + ring[position+1:]\n",
    "    buff_len = len(ring)\n",
    "print(ring[(position+2)%len(ring)])"
   ]
  },
  {
   "cell_type": "markdown",
   "metadata": {},
   "source": [
    "## Part B"
   ]
  },
  {
   "cell_type": "code",
   "execution_count": 3,
   "metadata": {},
   "outputs": [
    {
     "name": "stdout",
     "output_type": "stream",
     "text": [
      "13326437\n"
     ]
    }
   ],
   "source": [
    "#cycles=3\n",
    "position = 0\n",
    "buff_len = 1\n",
    "next_pos = None\n",
    "for i in range(1,50000001):\n",
    "    position = (position + cycles) % buff_len + 1\n",
    "    if position == 1:\n",
    "        next_pos = i\n",
    "    buff_len += 1\n",
    "print(next_pos)"
   ]
  }
 ],
 "metadata": {
  "kernelspec": {
   "display_name": "Coconut",
   "language": "coconut",
   "name": "coconut"
  },
  "language_info": {
   "codemirror_mode": {
    "name": "python",
    "version": 3.6
   },
   "file_extension": ".coco",
   "mimetype": "text/x-python3",
   "name": "coconut",
   "pygments_lexer": "coconut"
  }
 },
 "nbformat": 4,
 "nbformat_minor": 2
}
