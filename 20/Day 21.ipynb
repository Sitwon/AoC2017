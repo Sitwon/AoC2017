{
 "cells": [
  {
   "cell_type": "markdown",
   "metadata": {},
   "source": [
    "# Day 21"
   ]
  },
  {
   "cell_type": "markdown",
   "metadata": {},
   "source": [
    "## Puzzle input:"
   ]
  },
  {
   "cell_type": "code",
   "execution_count": 1,
   "metadata": {},
   "outputs": [
    {
     "data": {
      "text/plain": [
       "u\"\\nrulebook = {\\n    '../.#': '##./#../...'.split('/'),\\n    '.#./..#/###': '#..#/..../..../#..#'.split('/'),\\n}\\n#\""
      ]
     },
     "execution_count": 1,
     "metadata": {},
     "output_type": "execute_result"
    }
   ],
   "source": [
    "start_pattern = '.#./..#/###'\n",
    "\n",
    "rulebook = {}\n",
    "with open('input.txt', 'r') as input_file:\n",
    "    for line in input_file:\n",
    "        rule, pattern = line.split(' => ')\n",
    "        rulebook[rule] = pattern.strip().split('/')\n",
    "\n",
    "'''\n",
    "rulebook = {\n",
    "    '../.#': '##./#../...'.split('/'),\n",
    "    '.#./..#/###': '#..#/..../..../#..#'.split('/'),\n",
    "}\n",
    "#'''"
   ]
  },
  {
   "cell_type": "markdown",
   "metadata": {},
   "source": [
    "## Part A"
   ]
  },
  {
   "cell_type": "code",
   "execution_count": 2,
   "metadata": {},
   "outputs": [
    {
     "name": "stdout",
     "output_type": "stream",
     "text": [
      "133\n"
     ]
    }
   ],
   "source": [
    "import sys\n",
    "\n",
    "def to_grid(pattern):\n",
    "    return pattern.split('/') |> map$(list) |> list\n",
    "\n",
    "grid = to_grid(start_pattern)\n",
    "\n",
    "def to_pattern(grid):\n",
    "    return grid |> map$(''.join) |> '/'.join\n",
    "\n",
    "def flip(pattern):\n",
    "    grid = to_grid(pattern)\n",
    "    new_grid = to_grid(pattern)\n",
    "    new_grid[0] = grid[-1]\n",
    "    new_grid[-1] = grid[0]\n",
    "    return to_pattern(new_grid)\n",
    "\n",
    "def rotate(pattern):\n",
    "    grid = to_grid(pattern)\n",
    "    new_grid = to_grid(pattern)\n",
    "    size = len(grid[0])\n",
    "    for i in range(size):\n",
    "        new_grid[i][0] = grid[0][size-i-1]\n",
    "        new_grid[i][-1] = grid[-1][size-i-1]\n",
    "    if size == 3:\n",
    "        new_grid[0][1] = grid[1][2]\n",
    "        new_grid[2][1] = grid[1][0]\n",
    "    return to_pattern(new_grid)\n",
    "\n",
    "def do_rule(grid):\n",
    "    pattern = to_pattern(grid)\n",
    "    rotations = 3\n",
    "    flips = 1\n",
    "    while pattern not in rulebook.keys():\n",
    "        if rotations:\n",
    "            pattern = rotate(pattern)\n",
    "            rotations -= 1\n",
    "        elif flips:\n",
    "            pattern = flip(pattern)\n",
    "            flips -= 1\n",
    "            rotations = 3\n",
    "        else:\n",
    "            print('match failed on: %r' % (pattern,))\n",
    "            sys.exit()\n",
    "    return rulebook[pattern]\n",
    "        \n",
    "\n",
    "def enhance(grid):\n",
    "    size = len(grid)\n",
    "    if size in (2, 3):\n",
    "        return do_rule(grid)\n",
    "    if size % 3 == 0:\n",
    "        parts = []\n",
    "        offset = int(size/3)\n",
    "        for i in range(3):\n",
    "            for j in range(3):\n",
    "                parts.append([[grid[k][l] for l in range(j*offset, (j+1)*offset)] for k in range(i*offset, (i+1)*offset)] |> enhance)\n",
    "        new_size = len(parts[0])\n",
    "        new_grid = []\n",
    "        for i in range(3):\n",
    "            offset = i * 3\n",
    "            for j in range(new_size):\n",
    "                new_grid.append(parts[0 + offset][j] + parts[1 + offset][j] + parts[2 + offset][j])\n",
    "        return new_grid\n",
    "    if size % 2 == 0:\n",
    "        half_size = int(size/2)\n",
    "        quad1 = [[grid[i][j] for j in range(half_size)] for i in range(half_size)] |> enhance\n",
    "        quad2 = [[grid[i][j] for j in range(half_size, size)] for i in range(half_size)] |> enhance\n",
    "        quad3 = [[grid[i][j] for j in range(half_size)] for i in range(half_size, size)] |> enhance\n",
    "        quad4 = [[grid[i][j] for j in range(half_size, size)] for i in range(half_size, size)] |> enhance\n",
    "        new_size = len(quad1)\n",
    "        new_grid = []\n",
    "        for i in range(new_size):\n",
    "            new_grid.append(quad1[i] + quad2[i])\n",
    "        for i in range(new_size):\n",
    "            new_grid.append(quad3[i] + quad4[i])\n",
    "        return new_grid\n",
    "\n",
    "for i in range(5):\n",
    "    grid = enhance(grid)\n",
    "\n",
    "on = 0\n",
    "for row in grid:\n",
    "    for col in row:\n",
    "        if col == '#':\n",
    "            on += 1\n",
    "\n",
    "print(on)"
   ]
  },
  {
   "cell_type": "markdown",
   "metadata": {},
   "source": [
    "## Part B"
   ]
  },
  {
   "cell_type": "code",
   "execution_count": 3,
   "metadata": {},
   "outputs": [
    {
     "name": "stdout",
     "output_type": "stream",
     "text": [
      "2221990\n"
     ]
    }
   ],
   "source": [
    "import sys\n",
    "\n",
    "def to_grid(pattern):\n",
    "    return pattern.split('/') |> map$(list) |> list\n",
    "\n",
    "grid = to_grid(start_pattern)\n",
    "\n",
    "def to_pattern(grid):\n",
    "    return grid |> map$(''.join) |> '/'.join\n",
    "\n",
    "def flip(pattern):\n",
    "    grid = to_grid(pattern)\n",
    "    new_grid = to_grid(pattern)\n",
    "    new_grid[0] = grid[-1]\n",
    "    new_grid[-1] = grid[0]\n",
    "    return to_pattern(new_grid)\n",
    "\n",
    "def rotate(pattern):\n",
    "    grid = to_grid(pattern)\n",
    "    new_grid = to_grid(pattern)\n",
    "    size = len(grid[0])\n",
    "    for i in range(size):\n",
    "        new_grid[i][0] = grid[0][size-i-1]\n",
    "        new_grid[i][-1] = grid[-1][size-i-1]\n",
    "    if size == 3:\n",
    "        new_grid[0][1] = grid[1][2]\n",
    "        new_grid[2][1] = grid[1][0]\n",
    "    return to_pattern(new_grid)\n",
    "\n",
    "def do_rule(grid):\n",
    "    pattern = to_pattern(grid)\n",
    "    rotations = 3\n",
    "    flips = 1\n",
    "    while pattern not in rulebook.keys():\n",
    "        if rotations:\n",
    "            pattern = rotate(pattern)\n",
    "            rotations -= 1\n",
    "        elif flips:\n",
    "            pattern = flip(pattern)\n",
    "            flips -= 1\n",
    "            rotations = 3\n",
    "        else:\n",
    "            print('match failed on: %r' % (pattern,))\n",
    "            sys.exit()\n",
    "    return rulebook[pattern]\n",
    "        \n",
    "\n",
    "def enhance(grid):\n",
    "    size = len(grid)\n",
    "    if size in (2, 3):\n",
    "        return do_rule(grid)\n",
    "    if size % 3 == 0:\n",
    "        parts = []\n",
    "        offset = int(size/3)\n",
    "        for i in range(3):\n",
    "            for j in range(3):\n",
    "                parts.append([[grid[k][l] for l in range(j*offset, (j+1)*offset)] for k in range(i*offset, (i+1)*offset)] |> enhance)\n",
    "        new_size = len(parts[0])\n",
    "        new_grid = []\n",
    "        for i in range(3):\n",
    "            offset = i * 3\n",
    "            for j in range(new_size):\n",
    "                new_grid.append(parts[0 + offset][j] + parts[1 + offset][j] + parts[2 + offset][j])\n",
    "        return new_grid\n",
    "    if size % 2 == 0:\n",
    "        half_size = int(size/2)\n",
    "        quad1 = [[grid[i][j] for j in range(half_size)] for i in range(half_size)] |> enhance\n",
    "        quad2 = [[grid[i][j] for j in range(half_size, size)] for i in range(half_size)] |> enhance\n",
    "        quad3 = [[grid[i][j] for j in range(half_size)] for i in range(half_size, size)] |> enhance\n",
    "        quad4 = [[grid[i][j] for j in range(half_size, size)] for i in range(half_size, size)] |> enhance\n",
    "        new_size = len(quad1)\n",
    "        new_grid = []\n",
    "        for i in range(new_size):\n",
    "            new_grid.append(quad1[i] + quad2[i])\n",
    "        for i in range(new_size):\n",
    "            new_grid.append(quad3[i] + quad4[i])\n",
    "        return new_grid\n",
    "\n",
    "for i in range(18):\n",
    "    grid = enhance(grid)\n",
    "\n",
    "on = 0\n",
    "for row in grid:\n",
    "    for col in row:\n",
    "        if col == '#':\n",
    "            on += 1\n",
    "\n",
    "print(on)"
   ]
  }
 ],
 "metadata": {
  "kernelspec": {
   "display_name": "Coconut",
   "language": "coconut",
   "name": "coconut"
  },
  "language_info": {
   "codemirror_mode": {
    "name": "python",
    "version": 3.6
   },
   "file_extension": ".coco",
   "mimetype": "text/x-python3",
   "name": "coconut",
   "pygments_lexer": "coconut"
  }
 },
 "nbformat": 4,
 "nbformat_minor": 2
}
