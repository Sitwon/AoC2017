{
 "cells": [
  {
   "cell_type": "markdown",
   "metadata": {},
   "source": [
    "# Day 19"
   ]
  },
  {
   "cell_type": "markdown",
   "metadata": {},
   "source": [
    "## Puzzle input:"
   ]
  },
  {
   "cell_type": "code",
   "execution_count": 1,
   "metadata": {},
   "outputs": [],
   "source": [
    "with open('input.txt', 'r') as input_file:\n",
    "    route_map = input_file.readlines()"
   ]
  },
  {
   "cell_type": "code",
   "execution_count": 2,
   "metadata": {
    "scrolled": true
   },
   "outputs": [
    {
     "name": "stdout",
     "output_type": "stream",
     "text": [
      "'                                                                                                                                                                                                         \\n'\n"
     ]
    }
   ],
   "source": [
    "route_map[-1] |> repr |> print"
   ]
  },
  {
   "cell_type": "markdown",
   "metadata": {},
   "source": [
    "## Part A"
   ]
  },
  {
   "cell_type": "code",
   "execution_count": 3,
   "metadata": {},
   "outputs": [
    {
     "data": {
      "text/plain": [
       "(0, 157)"
      ]
     },
     "execution_count": 3,
     "metadata": {},
     "output_type": "execute_result"
    }
   ],
   "source": [
    "origin = None\n",
    "rows = len(route_map)\n",
    "cols = len(route_map[0])\n",
    "for i in range(rows):\n",
    "    if route_map[0][i] == '|':\n",
    "        origin = (0, i)\n",
    "        break\n",
    "    if route_map[rows-1][i] == '|':\n",
    "        origin = (rows-1, i)\n",
    "        break\n",
    "if not origin:\n",
    "    for i in range(rows):\n",
    "        if route_map[i][0] == '-':\n",
    "            origin = (i, 0)\n",
    "            break\n",
    "        if route_map[i][cols-1] == '-':\n",
    "            origin = (i, cols-1)\n",
    "            break\n",
    "origin"
   ]
  },
  {
   "cell_type": "code",
   "execution_count": 4,
   "metadata": {},
   "outputs": [
    {
     "name": "stdout",
     "output_type": "stream",
     "text": [
      "VTWBPYAQFU\n"
     ]
    }
   ],
   "source": [
    "direction = 'd'\n",
    "\n",
    "position = origin\n",
    "\n",
    "def find_exits(position):\n",
    "    exits = []\n",
    "    X, Y = position\n",
    "    if X > 0 and route_map[X-1][Y] != ' ':\n",
    "        exits.append((X-1, Y))\n",
    "    if X < rows-1 and route_map[X+1][Y] != ' ':\n",
    "        exits.append((X+1, Y))\n",
    "    if Y > 0 and route_map[X][Y-1] != ' ':\n",
    "        exits.append((X, Y-1))\n",
    "    if Y < cols-1 and route_map[X][Y+1] != ' ':\n",
    "        exits.append((X, Y+1))\n",
    "    return exits\n",
    "\n",
    "def move(position, direction, exits):\n",
    "    X, Y = position\n",
    "    case direction:\n",
    "        match 'd':\n",
    "            if (X+1, Y) in exits:\n",
    "                return (X+1, Y), direction\n",
    "            if (X, Y+1) in exits:\n",
    "                return (X, Y+1), 'r'\n",
    "            if (X, Y-1) in exits:\n",
    "                return (X, Y-1), 'l'\n",
    "        match 'u':\n",
    "            if (X-1, Y) in exits:\n",
    "                return (X-1, Y), direction\n",
    "            if (X, Y+1) in exits:\n",
    "                return (X, Y+1), 'r'\n",
    "            if (X, Y-1) in exits:\n",
    "                return (X, Y-1), 'l'\n",
    "        match 'l':\n",
    "            if (X, Y-1) in exits:\n",
    "                return (X, Y-1), direction\n",
    "            if (X+1, Y) in exits:\n",
    "                return (X+1, Y), 'd'\n",
    "            if (X-1, Y) in exits:\n",
    "                return (X-1, Y), 'u'\n",
    "            if (X, Y+1) in exits:\n",
    "                return (X, Y+1), 'r'\n",
    "        match 'r':\n",
    "            if (X, Y+1) in exits:\n",
    "                return (X, Y+1), direction\n",
    "            if (X+1, Y) in exits:\n",
    "                return (X+1, Y), 'd'\n",
    "            if (X-1, Y) in exits:\n",
    "                return (X-1, Y), 'u'\n",
    "            if (X, Y-1) in exits:\n",
    "                return (X, Y-1), 'l'\n",
    "\n",
    "letters = [chr(l) for l in range(ord('A'), ord('A')+26)]\n",
    "seen = []\n",
    "            \n",
    "exits = find_exits(position)\n",
    "position, direction = move(position, direction, exits)\n",
    "exits = find_exits(position)\n",
    "while len(exits) > 1:\n",
    "    try:\n",
    "        position, direction = move(position, direction, exits)\n",
    "    except:\n",
    "        print('%r, %r, %r' % (position, direction, exits))\n",
    "        break\n",
    "    exits = find_exits(position)\n",
    "    X, Y = position\n",
    "    if route_map[X][Y] in letters:\n",
    "        seen.append(route_map[X][Y])\n",
    "\n",
    "seen |> ''.join |> print"
   ]
  },
  {
   "cell_type": "markdown",
   "metadata": {},
   "source": [
    "## Part B"
   ]
  },
  {
   "cell_type": "code",
   "execution_count": 5,
   "metadata": {},
   "outputs": [
    {
     "name": "stdout",
     "output_type": "stream",
     "text": [
      "17358\n"
     ]
    }
   ],
   "source": [
    "direction = 'd'\n",
    "\n",
    "position = origin\n",
    "\n",
    "def find_exits(position):\n",
    "    exits = []\n",
    "    X, Y = position\n",
    "    if X > 0 and route_map[X-1][Y] != ' ':\n",
    "        exits.append((X-1, Y))\n",
    "    if X < rows-1 and route_map[X+1][Y] != ' ':\n",
    "        exits.append((X+1, Y))\n",
    "    if Y > 0 and route_map[X][Y-1] != ' ':\n",
    "        exits.append((X, Y-1))\n",
    "    if Y < cols-1 and route_map[X][Y+1] != ' ':\n",
    "        exits.append((X, Y+1))\n",
    "    return exits\n",
    "\n",
    "def move(position, direction, exits):\n",
    "    X, Y = position\n",
    "    case direction:\n",
    "        match 'd':\n",
    "            if (X+1, Y) in exits:\n",
    "                return (X+1, Y), direction\n",
    "            if (X, Y+1) in exits:\n",
    "                return (X, Y+1), 'r'\n",
    "            if (X, Y-1) in exits:\n",
    "                return (X, Y-1), 'l'\n",
    "        match 'u':\n",
    "            if (X-1, Y) in exits:\n",
    "                return (X-1, Y), direction\n",
    "            if (X, Y+1) in exits:\n",
    "                return (X, Y+1), 'r'\n",
    "            if (X, Y-1) in exits:\n",
    "                return (X, Y-1), 'l'\n",
    "        match 'l':\n",
    "            if (X, Y-1) in exits:\n",
    "                return (X, Y-1), direction\n",
    "            if (X+1, Y) in exits:\n",
    "                return (X+1, Y), 'd'\n",
    "            if (X-1, Y) in exits:\n",
    "                return (X-1, Y), 'u'\n",
    "            if (X, Y+1) in exits:\n",
    "                return (X, Y+1), 'r'\n",
    "        match 'r':\n",
    "            if (X, Y+1) in exits:\n",
    "                return (X, Y+1), direction\n",
    "            if (X+1, Y) in exits:\n",
    "                return (X+1, Y), 'd'\n",
    "            if (X-1, Y) in exits:\n",
    "                return (X-1, Y), 'u'\n",
    "            if (X, Y-1) in exits:\n",
    "                return (X, Y-1), 'l'\n",
    "\n",
    "exits = find_exits(position)\n",
    "position, direction = move(position, direction, exits)\n",
    "exits = find_exits(position)\n",
    "\n",
    "steps = 2  # first step onto the map, and then the step above\n",
    "while len(exits) > 1:\n",
    "    try:\n",
    "        position, direction = move(position, direction, exits)\n",
    "    except:\n",
    "        print('%r, %r, %r' % (position, direction, exits))\n",
    "        break\n",
    "    exits = find_exits(position)\n",
    "    X, Y = position\n",
    "    steps += 1\n",
    "\n",
    "steps |> print"
   ]
  }
 ],
 "metadata": {
  "kernelspec": {
   "display_name": "Coconut",
   "language": "coconut",
   "name": "coconut"
  },
  "language_info": {
   "codemirror_mode": {
    "name": "python",
    "version": 3.6
   },
   "file_extension": ".coco",
   "mimetype": "text/x-python3",
   "name": "coconut",
   "pygments_lexer": "coconut"
  }
 },
 "nbformat": 4,
 "nbformat_minor": 2
}
