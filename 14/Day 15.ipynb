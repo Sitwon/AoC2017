{
 "cells": [
  {
   "cell_type": "markdown",
   "metadata": {},
   "source": [
    "# Day 15"
   ]
  },
  {
   "cell_type": "markdown",
   "metadata": {},
   "source": [
    "## Puzzle input:"
   ]
  },
  {
   "cell_type": "code",
   "execution_count": 1,
   "metadata": {},
   "outputs": [],
   "source": [
    "'''\n",
    "Generator A starts with 873\n",
    "Generator B starts with 583\n",
    "'''\n",
    "a_val_init = 873\n",
    "b_val_init = 583"
   ]
  },
  {
   "cell_type": "markdown",
   "metadata": {},
   "source": [
    "## Part A"
   ]
  },
  {
   "cell_type": "code",
   "execution_count": 2,
   "metadata": {},
   "outputs": [
    {
     "name": "stdout",
     "output_type": "stream",
     "text": [
      "631\n"
     ]
    }
   ],
   "source": [
    "def generator(previous_value, factor):\n",
    "    while True:\n",
    "        previous_value = (previous_value * factor) % 2147483647\n",
    "        yield previous_value\n",
    "\n",
    "#a_val_init = 65\n",
    "#b_val_init = 8921\n",
    "gen_a = generator(a_val_init, 16807)\n",
    "gen_b = generator(b_val_init, 48271)\n",
    "matches = 0\n",
    "for i in range(40000000):\n",
    "    a_bin = next(gen_a) & 0xFFFF\n",
    "    b_bin = next(gen_b) & 0xFFFF\n",
    "    if a_bin == b_bin:\n",
    "        matches += 1\n",
    "print(matches)"
   ]
  },
  {
   "cell_type": "markdown",
   "metadata": {},
   "source": [
    "## Part B"
   ]
  },
  {
   "cell_type": "code",
   "execution_count": 3,
   "metadata": {},
   "outputs": [
    {
     "name": "stdout",
     "output_type": "stream",
     "text": [
      "279\n"
     ]
    }
   ],
   "source": [
    "def generator(previous_value, factor, guard):\n",
    "    while True:\n",
    "        previous_value = (previous_value * factor) % 2147483647\n",
    "        if previous_value % guard == 0:\n",
    "            yield previous_value\n",
    "\n",
    "#a_val_init = 65\n",
    "#b_val_init = 8921\n",
    "gen_a = generator(a_val_init, 16807, 4)\n",
    "gen_b = generator(b_val_init, 48271, 8)\n",
    "matches = 0\n",
    "for i in range(5000000):\n",
    "    a_bin = next(gen_a) & 0xFFFF\n",
    "    b_bin = next(gen_b) & 0xFFFF\n",
    "    if a_bin == b_bin:\n",
    "        matches += 1\n",
    "print(matches)"
   ]
  }
 ],
 "metadata": {
  "kernelspec": {
   "display_name": "Coconut",
   "language": "coconut",
   "name": "coconut"
  },
  "language_info": {
   "codemirror_mode": {
    "name": "python",
    "version": 3.6
   },
   "file_extension": ".coco",
   "mimetype": "text/x-python3",
   "name": "coconut",
   "pygments_lexer": "coconut"
  }
 },
 "nbformat": 4,
 "nbformat_minor": 2
}
