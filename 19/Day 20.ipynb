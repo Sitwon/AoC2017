{
 "cells": [
  {
   "cell_type": "markdown",
   "metadata": {},
   "source": [
    "# Day 20"
   ]
  },
  {
   "cell_type": "markdown",
   "metadata": {},
   "source": [
    "## Puzzle input:"
   ]
  },
  {
   "cell_type": "code",
   "execution_count": 3,
   "metadata": {},
   "outputs": [],
   "source": [
    "import re\n",
    "\n",
    "pattern = \"p=< ?([^,]*), ?([^,]*), ?([^>]*)>, v=< ?([^,]*), ?([^,]*), ?([^>]*)>, a=< ?([^,]*), ?([^,]*), ?([^>]*)>\"\n",
    "\n",
    "class Particle(object):\n",
    "    def __init__(self, position, velocity, acceleration):\n",
    "        self.pos = position\n",
    "        self.vel = velocity\n",
    "        self.acc = acceleration\n",
    "        self.find_distance()\n",
    "        \n",
    "    def find_distance(self):\n",
    "        self.distance = self.pos |> map$(abs) |> sum\n",
    "    \n",
    "    def step(self):\n",
    "        self.vel = zip(self.vel, self.acc) |> map$(sum) |> tuple\n",
    "        self.pos = zip(self.pos, self.vel) |> map$(sum) |> tuple\n",
    "        self.find_distance()\n",
    "\n",
    "particles = []\n",
    "with open('input.txt', 'r') as input_file:\n",
    "    for line in input_file:\n",
    "        px, py, pz, vx, vy, vz, ax, ay, az = re.match(pattern, line).groups() |> map$(.strip()) |> map$(int) \n",
    "        Particle((px,py,pz), (vx,vy,vz), (ax,ay,az)) |> particles.append"
   ]
  },
  {
   "cell_type": "markdown",
   "metadata": {},
   "source": [
    "## Part A"
   ]
  },
  {
   "cell_type": "code",
   "execution_count": 2,
   "metadata": {},
   "outputs": [
    {
     "name": "stdout",
     "output_type": "stream",
     "text": [
      "457\n"
     ]
    }
   ],
   "source": [
    "def step_all(particles):\n",
    "    for particle in particles:\n",
    "        particle.step()\n",
    "\n",
    "def min_particle(particles):\n",
    "    min_num = 0\n",
    "    min_dist = particles[0].distance\n",
    "    for i in range(len(particles)):\n",
    "        if particles[i].distance < min_dist:\n",
    "            min_dist = particles[i].distance\n",
    "            min_num = i\n",
    "    return min_num\n",
    "    \n",
    "for i in range(1000):\n",
    "    min_num = min_particle(particles)\n",
    "    step_all(particles)\n",
    "\n",
    "print(min_num)"
   ]
  },
  {
   "cell_type": "markdown",
   "metadata": {},
   "source": [
    "## Part B"
   ]
  },
  {
   "cell_type": "code",
   "execution_count": 4,
   "metadata": {},
   "outputs": [
    {
     "name": "stdout",
     "output_type": "stream",
     "text": [
      "448\n"
     ]
    }
   ],
   "source": [
    "def step_all(particles):\n",
    "    positions = {}\n",
    "    for i in range(particles |> len):\n",
    "        p = particles[i]\n",
    "        p.step()\n",
    "        pos = p.pos\n",
    "        if repr(pos) in positions.keys():\n",
    "            positions[repr(pos)].append(i)\n",
    "        else:\n",
    "            positions[repr(pos)] = [i]\n",
    "    collided = []\n",
    "    for pos in positions.keys():\n",
    "        if len(positions[pos]) > 1:\n",
    "            collided += positions[pos]\n",
    "    if len(collided) > 0:\n",
    "        collided |> sorted |> reversed |> map$(particles.pop) |> consume\n",
    "\n",
    "for i in range(1000):\n",
    "    step_all(particles)\n",
    "\n",
    "print(len(particles))"
   ]
  }
 ],
 "metadata": {
  "kernelspec": {
   "display_name": "Coconut",
   "language": "coconut",
   "name": "coconut"
  },
  "language_info": {
   "codemirror_mode": {
    "name": "python",
    "version": 3.6
   },
   "file_extension": ".coco",
   "mimetype": "text/x-python3",
   "name": "coconut",
   "pygments_lexer": "coconut"
  }
 },
 "nbformat": 4,
 "nbformat_minor": 2
}
